{
 "cells": [
  {
   "cell_type": "code",
   "execution_count": 13,
   "metadata": {},
   "outputs": [],
   "source": [
    "import os\n",
    "import cv2\n",
    "import numpy as np\n",
    "import tensorflow as tf\n",
    "import matplotlib.pyplot as plt\n",
    "import warnings\n",
    "warnings.simplefilter(\"ignore\")\n",
    "\n",
    "from tensorflow.keras.layers import Conv2D, MaxPooling2D, Flatten, Dense\n",
    "from sklearn.model_selection import train_test_split\n",
    "from emnist import extract_training_samples, extract_test_samples\n",
    "\n",
    "# Load the EMNIST dataset\n",
    "x_train, y_train = extract_training_samples('letters')\n",
    "x_test, y_test = extract_test_samples('letters')\n",
    "\n",
    "# Split the data into training and test sets\n",
    "x_train, x_test, y_train, y_test = train_test_split(x_train, y_train, test_size=0.2, random_state=42)\n",
    "\n",
    "# Normalize the data\n",
    "x_train = x_train / 255.0\n",
    "x_test = x_test / 255.0\n",
    "\n",
    "y_train = y_train - 1\n",
    "y_test = y_test - 1\n",
    "\n",
    "# Ensure that all labels are in the valid range [0, 25]\n",
    "assert np.min(y_train) >= 0 and np.max(y_train) <= 25\n",
    "assert np.min(y_test) >= 0 and np.max(y_test) <= 25\n",
    "\n",
    "# Reshape the data to have a single channel (grayscale)\n",
    "x_train = x_train.reshape(x_train.shape[0], 28, 28, 1)\n",
    "x_test = x_test.reshape(x_test.shape[0], 28, 28, 1)\n",
    "\n",
    "# Create a CNN model\n",
    "model = tf.keras.models.Sequential([\n",
    "    Conv2D(32, (3, 3), activation='relu', input_shape=(28, 28, 1)),\n",
    "    MaxPooling2D((2, 2)),\n",
    "    Conv2D(64, (3, 3), activation='relu'),\n",
    "    MaxPooling2D((2, 2)),\n",
    "    Flatten(),\n",
    "    Dense(128, activation='relu'),\n",
    "    Dense(26, activation='softmax')\n",
    "])\n",
    "\n",
    "model.compile(optimizer='adam', loss='sparse_categorical_crossentropy', metrics=['accuracy'])"
   ]
  },
  {
   "cell_type": "code",
   "execution_count": 14,
   "metadata": {},
   "outputs": [
    {
     "name": "stdout",
     "output_type": "stream",
     "text": [
      "Epoch 1/10\n",
      "3120/3120 [==============================] - 47s 15ms/step - loss: 0.4650 - accuracy: 0.8547\n",
      "Epoch 2/10\n",
      "3120/3120 [==============================] - 48s 15ms/step - loss: 0.2394 - accuracy: 0.9214\n",
      "Epoch 3/10\n",
      "3120/3120 [==============================] - 49s 16ms/step - loss: 0.1914 - accuracy: 0.9356\n",
      "Epoch 4/10\n",
      "3120/3120 [==============================] - 46s 15ms/step - loss: 0.1587 - accuracy: 0.9448\n",
      "Epoch 5/10\n",
      "3120/3120 [==============================] - 47s 15ms/step - loss: 0.1354 - accuracy: 0.9509\n",
      "Epoch 6/10\n",
      "3120/3120 [==============================] - 45s 14ms/step - loss: 0.1172 - accuracy: 0.9560\n",
      "Epoch 7/10\n",
      "3120/3120 [==============================] - 45s 15ms/step - loss: 0.1036 - accuracy: 0.9604\n",
      "Epoch 8/10\n",
      "3120/3120 [==============================] - 49s 16ms/step - loss: 0.0918 - accuracy: 0.9636\n",
      "Epoch 9/10\n",
      "3120/3120 [==============================] - 51s 16ms/step - loss: 0.0830 - accuracy: 0.9669\n",
      "Epoch 10/10\n",
      "3120/3120 [==============================] - 51s 16ms/step - loss: 0.0736 - accuracy: 0.9699\n",
      "INFO:tensorflow:Assets written to: alphabets_cnn.model\\assets\n"
     ]
    },
    {
     "name": "stderr",
     "output_type": "stream",
     "text": [
      "INFO:tensorflow:Assets written to: alphabets_cnn.model\\assets\n"
     ]
    }
   ],
   "source": [
    "# Fitting the model\n",
    "model.fit(x_train, y_train, epochs=10)\n",
    "model.save('alphabets_cnn.model')"
   ]
  },
  {
   "cell_type": "code",
   "execution_count": 17,
   "metadata": {},
   "outputs": [
    {
     "name": "stdout",
     "output_type": "stream",
     "text": [
      "780/780 [==============================] - 3s 3ms/step - loss: 0.2757 - accuracy: 0.9300\n",
      "Test Loss: 0.2757, Test Accuracy: 0.9300\n"
     ]
    }
   ],
   "source": [
    "# Evaluating the model\n",
    "test_loss, test_accuracy = model.evaluate(x_test, y_test)\n",
    "print(f\"Test Loss: {test_loss:.4f}, Test Accuracy: {test_accuracy:.4f}\")"
   ]
  },
  {
   "cell_type": "code",
   "execution_count": 19,
   "metadata": {},
   "outputs": [
    {
     "name": "stdout",
     "output_type": "stream",
     "text": [
      "1/1 [==============================] - 0s 47ms/step\n",
      "\t\t\t\t  The letter is probably:\n",
      "\t\t\t\t\t\t' Q '\n"
     ]
    },
    {
     "data": {
      "image/png": "[encoded data removed]",
      "text/plain": [
       "<Figure size 640x480 with 1 Axes>"
      ]
     },
     "metadata": {},
     "output_type": "display_data"
    }
   ],
   "source": [
    "# Load and use the model\n",
    "model = tf.keras.models.load_model('alphabets_cnn.model')\n",
    "\n",
    "# Load and preprocess the image\n",
    "img = cv2.imread(\"alphabets/test.png\", cv2.IMREAD_GRAYSCALE)\n",
    "img = cv2.resize(img, (28, 28))\n",
    "img = img / 255.0\n",
    "img = img.reshape(1, 28, 28, 1)\n",
    "\n",
    "# Make prediction\n",
    "prediction = model.predict(img)\n",
    "predicted_label = np.argmax(prediction)\n",
    "recognized_character = chr(predicted_label + ord('A'))\n",
    "\n",
    "print(\"\\t\\t\\t\\t  The letter is probably:\\n\\t\\t\\t\\t\\t\\t'\", recognized_character, \"'\")\n",
    "plt.imshow(img[0, :, :, 0], cmap=plt.cm.binary)\n",
    "plt.show()"
   ]
  }
 ],
 "metadata": {
  "kernelspec": {
   "display_name": "Python 3",
   "language": "python",
   "name": "python3"
  },
  "language_info": {
   "codemirror_mode": {
    "name": "ipython",
    "version": 3
   },
   "file_extension": ".py",
   "mimetype": "text/x-python",
   "name": "python",
   "nbconvert_exporter": "python",
   "pygments_lexer": "ipython3",
   "version": "3.11.5"
  },
  "orig_nbformat": 4
 },
 "nbformat": 4,
 "nbformat_minor": 2
}
