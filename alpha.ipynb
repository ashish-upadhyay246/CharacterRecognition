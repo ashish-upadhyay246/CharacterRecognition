{
 "cells": [
  {
   "cell_type": "markdown",
   "metadata": {},
   "source": [
    "Importing Libraries"
   ]
  },
  {
   "cell_type": "code",
   "execution_count": 1,
   "metadata": {},
   "outputs": [],
   "source": [
    "import cv2 #for image processing\n",
    "import numpy as np #for numerical operations\n",
    "import tensorflow as tf #for dl\n",
    "import matplotlib.pyplot as plt #for plotting graphs\n",
    "import warnings\n",
    "warnings.simplefilter(\"ignore\")\n",
    "\n",
    "from tensorflow.keras.layers import Flatten, Dense #to produce layers\n",
    "from sklearn.model_selection import train_test_split #for splitting the dataset\n",
    "from emnist import extract_training_samples, extract_test_samples #loading the emnist dataset\n"
   ]
  },
  {
   "cell_type": "markdown",
   "metadata": {},
   "source": [
    "Loading and splitting the data"
   ]
  },
  {
   "cell_type": "code",
   "execution_count": 2,
   "metadata": {},
   "outputs": [
    {
     "name": "stdout",
     "output_type": "stream",
     "text": [
      "99840\n",
      "24960\n"
     ]
    }
   ],
   "source": [
    "# Load the EMNIST dataset\n",
    "x_train, y_train = extract_training_samples('letters')\n",
    "x_test, y_test = extract_test_samples('letters')\n",
    "\n",
    "# Split the data into training and test sets\n",
    "x_train, x_test, y_train, y_test = train_test_split(x_train, y_train, test_size=0.2, random_state=42)\n",
    "print(len(x_train))\n",
    "print(len(x_test))"
   ]
  },
  {
   "cell_type": "markdown",
   "metadata": {},
   "source": [
    "Normalizing the data"
   ]
  },
  {
   "cell_type": "code",
   "execution_count": 3,
   "metadata": {},
   "outputs": [],
   "source": [
    "# Scale pixel values to [0, 1]\n",
    "x_train = x_train / 255.0  \n",
    "x_test = x_test / 255.0\n",
    "\n",
    "# EMNIST labels start from 1, subtract 1 to make them start from 0\n",
    "y_train = y_train - 1  \n",
    "y_test = y_test - 1"
   ]
  },
  {
   "cell_type": "markdown",
   "metadata": {},
   "source": [
    "Creating ANN layers"
   ]
  },
  {
   "cell_type": "code",
   "execution_count": 6,
   "metadata": {},
   "outputs": [],
   "source": [
    "model=tf.keras.models.Sequential()\n",
    "model.add(Flatten(input_shape=(28,28)))\n",
    "model.add(Dense(150, activation=\"relu\"))\n",
    "model.add(Dense(80, activation=\"relu\"))\n",
    "model.add(Dense(26, activation=\"softmax\"))\n",
    "model.compile(optimizer=\"adam\", loss=\"sparse_categorical_crossentropy\",metrics=['accuracy'])"
   ]
  },
  {
   "cell_type": "markdown",
   "metadata": {},
   "source": [
    "Fitting and saving the model"
   ]
  },
  {
   "cell_type": "code",
   "execution_count": 7,
   "metadata": {},
   "outputs": [
    {
     "name": "stdout",
     "output_type": "stream",
     "text": [
      "Epoch 1/10\n",
      "3120/3120 [==============================] - 10s 3ms/step - loss: 0.7135 - accuracy: 0.7864\n",
      "Epoch 2/10\n",
      "3120/3120 [==============================] - 5s 2ms/step - loss: 0.3977 - accuracy: 0.8738\n",
      "Epoch 3/10\n",
      "3120/3120 [==============================] - 5s 2ms/step - loss: 0.3266 - accuracy: 0.8944\n",
      "Epoch 4/10\n",
      "3120/3120 [==============================] - 5s 1ms/step - loss: 0.2866 - accuracy: 0.9054\n",
      "Epoch 5/10\n",
      "3120/3120 [==============================] - 4s 1ms/step - loss: 0.2601 - accuracy: 0.9128\n",
      "Epoch 6/10\n",
      "3120/3120 [==============================] - 4s 1ms/step - loss: 0.2368 - accuracy: 0.9200\n",
      "Epoch 7/10\n",
      "3120/3120 [==============================] - 4s 1ms/step - loss: 0.2202 - accuracy: 0.9247\n",
      "Epoch 8/10\n",
      "3120/3120 [==============================] - 4s 1ms/step - loss: 0.2062 - accuracy: 0.9288\n",
      "Epoch 9/10\n",
      "3120/3120 [==============================] - 4s 1ms/step - loss: 0.1943 - accuracy: 0.9320\n",
      "Epoch 10/10\n",
      "3120/3120 [==============================] - 4s 1ms/step - loss: 0.1832 - accuracy: 0.9342\n",
      "INFO:tensorflow:Assets written to: alphabets.model\\assets\n"
     ]
    },
    {
     "name": "stderr",
     "output_type": "stream",
     "text": [
      "INFO:tensorflow:Assets written to: alphabets.model\\assets\n"
     ]
    }
   ],
   "source": [
    "model.fit(x_train,y_train,epochs=10)\n",
    "model.save('alphabets.model')"
   ]
  },
  {
   "cell_type": "markdown",
   "metadata": {},
   "source": [
    "Evaluating the model"
   ]
  },
  {
   "cell_type": "code",
   "execution_count": 8,
   "metadata": {},
   "outputs": [
    {
     "name": "stdout",
     "output_type": "stream",
     "text": [
      "780/780 [==============================] - 1s 904us/step - loss: 0.3651 - accuracy: 0.8952\n",
      "Test Loss: 0.3651, Test Accuracy: 0.8952\n"
     ]
    }
   ],
   "source": [
    "test_loss, test_accuracy = model.evaluate(x_test, y_test)\n",
    "print(f\"Test Loss: {test_loss:.4f}, Test Accuracy: {test_accuracy:.4f}\")"
   ]
  },
  {
   "cell_type": "markdown",
   "metadata": {},
   "source": [
    "Classifying inputs"
   ]
  },
  {
   "cell_type": "code",
   "execution_count": 11,
   "metadata": {},
   "outputs": [
    {
     "name": "stdout",
     "output_type": "stream",
     "text": [
      "1/1 [==============================] - 0s 33ms/step\n",
      "\t\t\t\t  The letter is probably:\n",
      "\t\t\t\t\t\t' B '\n"
     ]
    },
    {
     "data": {
      "image/png": "[encoded data removed]",
      "text/plain": [
       "<Figure size 640x480 with 1 Axes>"
      ]
     },
     "metadata": {},
     "output_type": "display_data"
    }
   ],
   "source": [
    "#load and use the model\n",
    "model=tf.keras.models.load_model('alphabets.model')\n",
    "\n",
    "#loading the image\n",
    "img=cv2.imread(f\"alphabets/alphab.png\")[:,:,0]\n",
    "\n",
    "#inverting the image\n",
    "img=np.invert(np.array([img]))\n",
    "\n",
    "#make prediction\n",
    "prediction=model.predict(img)\n",
    "predicted_label = np.argmax(prediction)\n",
    "recognized_character = chr(predicted_label + ord('A'))  # Alphabets\n",
    "\n",
    "print(\"\\t\\t\\t\\t  The letter is probably:\\n\\t\\t\\t\\t\\t\\t'\", recognized_character, \"'\")\n",
    "plt.imshow(img[0], cmap=plt.cm.binary)\n",
    "plt.show()"
   ]
  }
 ],
 "metadata": {
  "kernelspec": {
   "display_name": "Python 3",
   "language": "python",
   "name": "python3"
  },
  "language_info": {
   "codemirror_mode": {
    "name": "ipython",
    "version": 3
   },
   "file_extension": ".py",
   "mimetype": "text/x-python",
   "name": "python",
   "nbconvert_exporter": "python",
   "pygments_lexer": "ipython3",
   "version": "3.11.5"
  },
  "orig_nbformat": 4
 },
 "nbformat": 4,
 "nbformat_minor": 2
}
