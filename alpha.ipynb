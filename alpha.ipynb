{
 "cells": [
  {
   "cell_type": "code",
   "execution_count": 39,
   "metadata": {},
   "outputs": [],
   "source": [
    "import os #for file handling\n",
    "import cv2 #for image processing\n",
    "import tensorflow as tf #for dl\n",
    "import numpy as np #for numerical operations\n",
    "import matplotlib.pyplot as plt #for plotting graphs\n",
    "from emnist import extract_training_samples, extract_test_samples\n",
    "from keras.layers import LeakyReLU\n",
    "import warnings\n",
    "warnings.simplefilter(\"ignore\")"
   ]
  },
  {
   "cell_type": "code",
   "execution_count": 2,
   "metadata": {},
   "outputs": [],
   "source": [
    "x_train, y_train=extract_training_samples('letters')\n",
    "x_test, y_test=extract_test_samples('letters')"
   ]
  },
  {
   "cell_type": "code",
   "execution_count": 3,
   "metadata": {},
   "outputs": [
    {
     "data": {
      "text/plain": [
       "(124800, 28, 28)"
      ]
     },
     "execution_count": 3,
     "metadata": {},
     "output_type": "execute_result"
    }
   ],
   "source": [
    "x_train.shape"
   ]
  },
  {
   "cell_type": "code",
   "execution_count": 4,
   "metadata": {},
   "outputs": [
    {
     "data": {
      "text/plain": [
       "(20800, 28, 28)"
      ]
     },
     "execution_count": 4,
     "metadata": {},
     "output_type": "execute_result"
    }
   ],
   "source": [
    "x_test.shape"
   ]
  },
  {
   "cell_type": "code",
   "execution_count": 6,
   "metadata": {},
   "outputs": [
    {
     "name": "stdout",
     "output_type": "stream",
     "text": [
      "(28, 28)\n",
      "V\n"
     ]
    },
    {
     "data": {
      "image/png": "[encoded data removed]",
      "text/plain": [
       "<Figure size 640x480 with 1 Axes>"
      ]
     },
     "metadata": {},
     "output_type": "display_data"
    }
   ],
   "source": [
    "test=16\n",
    "first_image = x_train[test]\n",
    "first_result= y_train[test]\n",
    "print(first_image.shape)\n",
    "\n",
    "ch = chr(first_result + ord('A'))\n",
    "print(ch)\n",
    "plt.imshow(first_image,cmap=plt.cm.binary)\n",
    "plt.show()\n"
   ]
  },
  {
   "cell_type": "code",
   "execution_count": 7,
   "metadata": {},
   "outputs": [],
   "source": [
    "x_train = x_train / 255.0  # Scale pixel values to [0, 1]\n",
    "x_test = x_test / 255.0"
   ]
  },
  {
   "cell_type": "code",
   "execution_count": 8,
   "metadata": {},
   "outputs": [],
   "source": [
    "# Preprocess the labels to convert them to integers\n",
    "y_train = y_train - 1  # EMNIST labels start from 1, subtract 1 to make them start from 0\n",
    "y_test = y_test - 1"
   ]
  },
  {
   "cell_type": "code",
   "execution_count": 53,
   "metadata": {},
   "outputs": [],
   "source": [
    "model=tf.keras.models.Sequential()\n",
    "model.add(tf.keras.layers.Flatten(input_shape=(28,28)))\n",
    "\n",
    "model=tf.keras.models.Sequential()\n",
    "model.add(tf.keras.layers.Flatten(input_shape=(28,28)))\n",
    "model.add(tf.keras.layers.Dense(360, activation=\"relu\"))\n",
    "model.add(tf.keras.layers.Dense(360, activation=\"relu\"))\n",
    "model.add(tf.keras.layers.Dense(360, activation=\"relu\"))\n",
    "model.add(tf.keras.layers.Dense(360, activation=\"relu\"))\n",
    "model.add(tf.keras.layers.Dense(360, activation=\"relu\"))\n",
    "model.add(tf.keras.layers.Dense(360, activation=\"relu\"))\n",
    "model.add(tf.keras.layers.Dense(360, activation=\"relu\"))\n",
    "model.add(tf.keras.layers.Dense(62, activation=\"softmax\"))"
   ]
  },
  {
   "cell_type": "code",
   "execution_count": 54,
   "metadata": {},
   "outputs": [],
   "source": [
    "model.compile(optimizer=\"adam\", loss=\"sparse_categorical_crossentropy\",metrics=['accuracy'])"
   ]
  },
  {
   "cell_type": "code",
   "execution_count": 55,
   "metadata": {},
   "outputs": [
    {
     "name": "stdout",
     "output_type": "stream",
     "text": [
      "Epoch 1/12\n",
      "3900/3900 [==============================] - 44s 11ms/step - loss: 0.6913 - accuracy: 0.7882\n",
      "Epoch 2/12\n",
      "3900/3900 [==============================] - 41s 10ms/step - loss: 0.4023 - accuracy: 0.8786\n",
      "Epoch 3/12\n",
      "3900/3900 [==============================] - 41s 10ms/step - loss: 0.3348 - accuracy: 0.8966\n",
      "Epoch 4/12\n",
      "3900/3900 [==============================] - 41s 11ms/step - loss: 0.2972 - accuracy: 0.9082\n",
      "Epoch 5/12\n",
      "3900/3900 [==============================] - 41s 11ms/step - loss: 0.2718 - accuracy: 0.9155\n",
      "Epoch 6/12\n",
      "3900/3900 [==============================] - 42s 11ms/step - loss: 0.2499 - accuracy: 0.9221\n",
      "Epoch 7/12\n",
      "3900/3900 [==============================] - 42s 11ms/step - loss: 0.2339 - accuracy: 0.9262\n",
      "Epoch 8/12\n",
      "3900/3900 [==============================] - 41s 11ms/step - loss: 0.2204 - accuracy: 0.9300\n",
      "Epoch 9/12\n",
      "3900/3900 [==============================] - 41s 10ms/step - loss: 0.2087 - accuracy: 0.9333\n",
      "Epoch 10/12\n",
      "3900/3900 [==============================] - 41s 11ms/step - loss: 0.2038 - accuracy: 0.9350\n",
      "Epoch 11/12\n",
      "3900/3900 [==============================] - 44s 11ms/step - loss: 0.1930 - accuracy: 0.9388\n",
      "Epoch 12/12\n",
      "3900/3900 [==============================] - 42s 11ms/step - loss: 0.1866 - accuracy: 0.9399\n"
     ]
    },
    {
     "data": {
      "text/plain": [
       "<keras.src.callbacks.History at 0x19e3799d690>"
      ]
     },
     "execution_count": 55,
     "metadata": {},
     "output_type": "execute_result"
    }
   ],
   "source": [
    "#fitting the model\n",
    "model.fit(x_train,y_train,epochs=12)"
   ]
  },
  {
   "cell_type": "code",
   "execution_count": 56,
   "metadata": {},
   "outputs": [
    {
     "name": "stdout",
     "output_type": "stream",
     "text": [
      "INFO:tensorflow:Assets written to: alphabets.model\\assets\n"
     ]
    },
    {
     "name": "stderr",
     "output_type": "stream",
     "text": [
      "INFO:tensorflow:Assets written to: alphabets.model\\assets\n"
     ]
    }
   ],
   "source": [
    "model.save('alphabets.model')"
   ]
  },
  {
   "cell_type": "code",
   "execution_count": 61,
   "metadata": {},
   "outputs": [
    {
     "name": "stdout",
     "output_type": "stream",
     "text": [
      "650/650 [==============================] - 2s 3ms/step - loss: 0.3897 - accuracy: 0.9075\n",
      "38.969048857688904\n",
      "90.75480699539185\n"
     ]
    },
    {
     "data": {
      "image/png": "[encoded data removed]",
      "text/plain": [
       "<Figure size 640x480 with 1 Axes>"
      ]
     },
     "metadata": {},
     "output_type": "display_data"
    }
   ],
   "source": [
    "#evaluating the model\n",
    "loss,accuracy=model.evaluate(x_test,y_test)\n",
    "print(loss*100)\n",
    "print(accuracy*100)\n",
    "plt.imshow(x_test[5],cmap=plt.cm.binary)\n",
    "plt.show()\n"
   ]
  },
  {
   "cell_type": "code",
   "execution_count": 62,
   "metadata": {},
   "outputs": [
    {
     "name": "stdout",
     "output_type": "stream",
     "text": [
      "1/1 [==============================] - 0s 56ms/step\n",
      "\t\t\t\t  The letter is probably:\n",
      "\t\t\t\t\t\t' A '\n"
     ]
    },
    {
     "data": {
      "image/png": "[encoded data removed]",
      "text/plain": [
       "<Figure size 640x480 with 1 Axes>"
      ]
     },
     "metadata": {},
     "output_type": "display_data"
    }
   ],
   "source": [
    "#load and use the model\n",
    "model=tf.keras.models.load_model('alphabets.model')\n",
    "\n",
    "#loading the image\n",
    "img=cv2.imread(f\"alphabets/test.png\")[:,:,0]\n",
    "\n",
    "#inverting the image\n",
    "img=np.invert(np.array([img]))\n",
    "\n",
    "#make prediction\n",
    "prediction=model.predict(img)\n",
    "\n",
    "cs=''\n",
    "#determine the label\n",
    "predicted_label = np.argmax(prediction)\n",
    "recognized_character = chr(predicted_label + ord('A'))\n",
    "print(\"\\t\\t\\t\\t  The letter is probably:\\n\\t\\t\\t\\t\\t\\t'\",recognized_character,\"'\")\n",
    "plt.imshow(img[0],cmap=plt.cm.binary)\n",
    "plt.show()\n"
   ]
  }
 ],
 "metadata": {
  "kernelspec": {
   "display_name": "Python 3",
   "language": "python",
   "name": "python3"
  },
  "language_info": {
   "codemirror_mode": {
    "name": "ipython",
    "version": 3
   },
   "file_extension": ".py",
   "mimetype": "text/x-python",
   "name": "python",
   "nbconvert_exporter": "python",
   "pygments_lexer": "ipython3",
   "version": "3.11.5"
  },
  "orig_nbformat": 4
 },
 "nbformat": 4,
 "nbformat_minor": 2
}
