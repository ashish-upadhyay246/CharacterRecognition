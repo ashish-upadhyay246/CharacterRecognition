{
 "cells": [
  {
   "cell_type": "code",
   "execution_count": 2,
   "metadata": {},
   "outputs": [],
   "source": [
    "import os #for file handling\n",
    "import cv2 #for image processing\n",
    "import tensorflow as tf #for dl\n",
    "import numpy as np #for numerical operations\n",
    "import matplotlib.pyplot as plt #for plotting graphs\n",
    "from emnist import extract_training_samples, extract_test_samples"
   ]
  },
  {
   "cell_type": "code",
   "execution_count": 3,
   "metadata": {},
   "outputs": [],
   "source": [
    "x_train, y_train=extract_training_samples('letters')\n",
    "x_test, y_test=extract_test_samples('letters')"
   ]
  },
  {
   "cell_type": "code",
   "execution_count": 4,
   "metadata": {},
   "outputs": [
    {
     "name": "stdout",
     "output_type": "stream",
     "text": [
      "(28, 28)\n"
     ]
    }
   ],
   "source": [
    "first_image = x_train[0]\n",
    "print(first_image.shape)"
   ]
  },
  {
   "cell_type": "code",
   "execution_count": 5,
   "metadata": {},
   "outputs": [],
   "source": [
    "x_train = x_train / 255.0  # Scale pixel values to [0, 1]\n",
    "x_test = x_test / 255.0"
   ]
  },
  {
   "cell_type": "code",
   "execution_count": 6,
   "metadata": {},
   "outputs": [],
   "source": [
    "# Preprocess the labels to convert them to integers\n",
    "y_train = y_train - 1  # EMNIST labels start from 1, subtract 1 to make them start from 0\n",
    "y_test = y_test - 1"
   ]
  },
  {
   "cell_type": "code",
   "execution_count": 20,
   "metadata": {},
   "outputs": [],
   "source": [
    "model=tf.keras.models.Sequential()\n",
    "model.add(tf.keras.layers.Flatten(input_shape=(28,28)))\n",
    "model.add(tf.keras.layers.Dense(360, activation=\"relu\"))\n",
    "model.add(tf.keras.layers.Dense(360, activation=\"relu\"))\n",
    "model.add(tf.keras.layers.Dense(360, activation=\"relu\"))\n",
    "model.add(tf.keras.layers.Dense(52, activation=\"softmax\"))"
   ]
  },
  {
   "cell_type": "code",
   "execution_count": 21,
   "metadata": {},
   "outputs": [],
   "source": [
    "model.compile(optimizer=\"adam\", loss=\"sparse_categorical_crossentropy\",metrics=['accuracy'])"
   ]
  },
  {
   "cell_type": "code",
   "execution_count": 22,
   "metadata": {},
   "outputs": [
    {
     "name": "stdout",
     "output_type": "stream",
     "text": [
      "Epoch 1/10\n",
      "3900/3900 [==============================] - 29s 7ms/step - loss: 0.5423 - accuracy: 0.8303\n",
      "Epoch 2/10\n",
      "3900/3900 [==============================] - 27s 7ms/step - loss: 0.3130 - accuracy: 0.8958\n",
      "Epoch 3/10\n",
      "3900/3900 [==============================] - 27s 7ms/step - loss: 0.2587 - accuracy: 0.9125\n",
      "Epoch 4/10\n",
      "3900/3900 [==============================] - 27s 7ms/step - loss: 0.2276 - accuracy: 0.9217\n",
      "Epoch 5/10\n",
      "3900/3900 [==============================] - 32s 8ms/step - loss: 0.2040 - accuracy: 0.9281\n",
      "Epoch 6/10\n",
      "3900/3900 [==============================] - 34s 9ms/step - loss: 0.1871 - accuracy: 0.9335\n",
      "Epoch 7/10\n",
      "3900/3900 [==============================] - 29s 8ms/step - loss: 0.1733 - accuracy: 0.9377\n",
      "Epoch 8/10\n",
      "3900/3900 [==============================] - 30s 8ms/step - loss: 0.1639 - accuracy: 0.9407\n",
      "Epoch 9/10\n",
      "3900/3900 [==============================] - 31s 8ms/step - loss: 0.1542 - accuracy: 0.9439\n",
      "Epoch 10/10\n",
      "3900/3900 [==============================] - 31s 8ms/step - loss: 0.1525 - accuracy: 0.9451\n"
     ]
    },
    {
     "data": {
      "text/plain": [
       "<keras.src.callbacks.History at 0x1e606192f50>"
      ]
     },
     "execution_count": 22,
     "metadata": {},
     "output_type": "execute_result"
    }
   ],
   "source": [
    "#fitting the model\n",
    "model.fit(x_train,y_train,epochs=10)"
   ]
  },
  {
   "cell_type": "code",
   "execution_count": 23,
   "metadata": {},
   "outputs": [
    {
     "name": "stdout",
     "output_type": "stream",
     "text": [
      "INFO:tensorflow:Assets written to: alphabets.model\\assets\n"
     ]
    },
    {
     "name": "stderr",
     "output_type": "stream",
     "text": [
      "INFO:tensorflow:Assets written to: alphabets.model\\assets\n"
     ]
    }
   ],
   "source": [
    "model.save('alphabets.model')"
   ]
  },
  {
   "cell_type": "code",
   "execution_count": 24,
   "metadata": {},
   "outputs": [
    {
     "name": "stdout",
     "output_type": "stream",
     "text": [
      "650/650 [==============================] - 1s 2ms/step - loss: 0.3609 - accuracy: 0.9115\n",
      "36.08854115009308\n",
      "91.14903807640076\n"
     ]
    }
   ],
   "source": [
    "#evaluating the model\n",
    "loss,accuracy=model.evaluate(x_test,y_test)\n",
    "print(loss*100)\n",
    "print(accuracy*100)"
   ]
  },
  {
   "cell_type": "code",
   "execution_count": 31,
   "metadata": {},
   "outputs": [
    {
     "name": "stdout",
     "output_type": "stream",
     "text": [
      "1/1 [==============================] - 0s 46ms/step\n",
      "The letter is probably a  J\n"
     ]
    },
    {
     "data": {
      "image/png": "[encoded data removed]",
      "text/plain": [
       "<Figure size 640x480 with 1 Axes>"
      ]
     },
     "metadata": {},
     "output_type": "display_data"
    }
   ],
   "source": [
    "#load and use the model\n",
    "model=tf.keras.models.load_model('alphabets.model')\n",
    "\n",
    "#loading the image\n",
    "img=cv2.imread(f\"alphabets/alphaJ.png\")[:,:,0]\n",
    "#inverting the image\n",
    "img=np.invert(np.array([img]))\n",
    "#make prediction\n",
    "prediction=model.predict(img)\n",
    "#determine the label\n",
    "predicted_label = np.argmax(prediction)\n",
    "recognized_character = chr(predicted_label + ord('A'))\n",
    "print(\"The letter is probably a \",recognized_character)\n",
    "plt.imshow(img[0],cmap=plt.cm.binary)\n",
    "plt.show()\n"
   ]
  }
 ],
 "metadata": {
  "kernelspec": {
   "display_name": "Python 3",
   "language": "python",
   "name": "python3"
  },
  "language_info": {
   "codemirror_mode": {
    "name": "ipython",
    "version": 3
   },
   "file_extension": ".py",
   "mimetype": "text/x-python",
   "name": "python",
   "nbconvert_exporter": "python",
   "pygments_lexer": "ipython3",
   "version": "3.11.5"
  },
  "orig_nbformat": 4
 },
 "nbformat": 4,
 "nbformat_minor": 2
}
